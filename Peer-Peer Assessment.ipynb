{
 "cells": [
  {
   "cell_type": "markdown",
   "id": "e7b318cd-6289-4eab-8a16-6ee46b5a6a14",
   "metadata": {},
   "source": [
    "<h1>Final Assignment: Peer-graded Assignment: Analyzing Historical Stock/Revenue Data and Building a Dashboard</h1>"
   ]
  },
  {
   "cell_type": "markdown",
   "id": "36f4ca24-25e7-4c46-a3ee-3e1e5f058339",
   "metadata": {},
   "source": [
    "Extracting essential data from a dataset and displaying it is a necessary part of data science; therefore individuals can make correct decisions based on the data. In this assignment, you will extract some stock data, you will then display this data in a graph. \n",
    "PS: Using this lab document to submit the assessment due to IBM Trial expiry.\n"
   ]
  },
  {
   "cell_type": "markdown",
   "id": "81ba66c2-fd9e-4e2d-bf3d-1c846eef9423",
   "metadata": {},
   "source": [
    "## Question 1: Extracting Tesla Stock Data Using yfinance\n"
   ]
  },
  {
   "cell_type": "markdown",
   "id": "52217bd2-24c6-4d51-8ac0-5b98ee65e9ef",
   "metadata": {},
   "source": [
    "We can use the Ticker function to extract data on to create a ticker object. The stock is Tesla and its ticker symbol is `TSLA`.\n"
   ]
  },
  {
   "cell_type": "code",
   "execution_count": null,
   "id": "2c24cf2b-90f6-4cb1-913a-6e702473546a",
   "metadata": {},
   "outputs": [],
   "source": [
    "import yfinance as yf\n",
    "import pandas as pd\n",
    "\n",
    "#Defining the ticker symbol for Tesla\n",
    "#ticker_symbol = 'TSLA'\n",
    "#Using yfinance to download the historical stock data\n",
    "#tesla_data = yf.download(ticker_symbol, start=start_date, end=end_date)\n",
    "\n",
    "tesla = yf.Ticker(\"TSLA\")\n",
    "\n",
    "#Set the period parameter to max so we get information for the maximum amount of time.\n",
    "tesla_data = tesla.history(period=\"max\")\n",
    "\n",
    "#Print the first few rows of the data\n",
    "#Reset the index using the reset_index(inplace=True) function on the gme_data DataFrame and display the first five rows of the gme_data dataframe using the head function.\n",
    "tesla_data.reset_index(inplace=True)\n",
    "tesla_data.head()"
   ]
  },
  {
   "attachments": {
    "ca4f647c-f89a-4f1c-89f8-b6479755cc76.png": {
     "image/png": "[encoded data removed]"
    }
   },
   "cell_type": "markdown",
   "id": "dda42c9c-3664-45ea-97ef-d3a1cc6c4b1b",
   "metadata": {},
   "source": [
    "![image.png](attachment:ca4f647c-f89a-4f1c-89f8-b6479755cc76.png)"
   ]
  },
  {
   "cell_type": "markdown",
   "id": "e2b74159-5a91-4fa2-8efb-8ed2c7b6f051",
   "metadata": {
    "tags": []
   },
   "source": [
    "## Question 2: Use Webscraping to Extract Tesla Revenue Data"
   ]
  },
  {
   "cell_type": "markdown",
   "id": "faaca47d-9ffe-4f68-a34d-c9e4efc20457",
   "metadata": {},
   "source": [
    "Let's use the requests library to download the webpage either 'https://cf-courses-data.s3.us.cloud-object-storage.appdomain.cloud/IBMDeveloperSkillsNetwork-PY0220EN-SkillsNetwork/labs/project/revenue.htm' OR 'https://www.macrotrends.net/stocks/charts/TSLA/tesla/revenue'. \n",
    "Save the text of the response as a variable named html_data."
   ]
  },
  {
   "cell_type": "code",
   "execution_count": null,
   "id": "6e954a5f-63fd-4e0a-9c69-80a067a2f510",
   "metadata": {},
   "outputs": [],
   "source": [
    "url = \"https://www.macrotrends.net/stocks/charts/TSLA/tesla/revenue\"\n",
    "html_data = requests.get(url).text"
   ]
  },
  {
   "cell_type": "markdown",
   "id": "72fd8924-0bb6-4e94-b77f-59641c858e56",
   "metadata": {},
   "source": [
    "Parsing the html data using beautiful_soup."
   ]
  },
  {
   "cell_type": "code",
   "execution_count": null,
   "id": "be169112-48d6-4744-be0a-4580591914b2",
   "metadata": {},
   "outputs": [],
   "source": [
    "soup = BeautifulSoup(html_data,'html.parser')"
   ]
  },
  {
   "cell_type": "markdown",
   "id": "b3c19ee2-6278-48c3-8c1c-f0dfff7f4fcc",
   "metadata": {},
   "source": [
    "Using BeautifulSoup or the read_html function ot extract the table with Tesla Quarterly Revenue and store it into tesla_revenue.\n"
   ]
  },
  {
   "cell_type": "code",
   "execution_count": null,
   "id": "0575cd22-bfa0-42bb-9a52-ddbc5e2c5f7c",
   "metadata": {},
   "outputs": [],
   "source": [
    "tesla_revenue=pd.read_html(url, match = \"Tesla Quarterly Revenue\", flavor='bs4')[0]\n",
    "tesla_revenue.head()"
   ]
  },
  {
   "cell_type": "markdown",
   "id": "0bbc2ff2-6a06-4338-b8a6-e235f41bb94b",
   "metadata": {},
   "source": [
    "To remove the comma and dollar sign from the Revenu column:"
   ]
  },
  {
   "cell_type": "code",
   "execution_count": null,
   "id": "00cdb320-af16-48e7-89b5-b7026dade6fe",
   "metadata": {},
   "outputs": [],
   "source": [
    "tesla_revenue = tesla_revenue.rename(columns={\"Tesla Quarterly Revenue(Millions of US $)\":\"Date\",\"Tesla Quarterly Revenue(Millions of US $).1\":\"Revenue\"}) \n",
    "\n",
    "tesla_revenue[\"Revenue\"] = tesla_revenue['Revenue'].str.replace(',|\\$',\"\")\n",
    "\n",
    "tesla_revenue.head()"
   ]
  },
  {
   "cell_type": "markdown",
   "id": "69fbc770-5b9d-464f-a77d-2c931a2e1132",
   "metadata": {},
   "source": [
    "To remove an null or empty strings in the Revenue column:"
   ]
  },
  {
   "cell_type": "code",
   "execution_count": 16,
   "id": "66e7edbe-3871-45d8-97e4-57a2ca4b9a7b",
   "metadata": {},
   "outputs": [],
   "source": [
    "tesla_revenue.dropna(inplace=True)\n",
    "\n",
    "tesla_revenue = tesla_revenue[tesla_revenue['Revenue'] != \"\"]"
   ]
  },
  {
   "cell_type": "markdown",
   "id": "30e52e32-a4a7-4236-b222-d8774a81d799",
   "metadata": {},
   "source": [
    "Displaying the last rows of the tesla_revenue dataframe using the tail function. "
   ]
  },
  {
   "cell_type": "code",
   "execution_count": null,
   "id": "4f8b0614-2981-49a9-8fa2-1ffd041ff75e",
   "metadata": {},
   "outputs": [],
   "source": [
    "tesla_revenue.tail()"
   ]
  },
  {
   "cell_type": "code",
   "execution_count": null,
   "id": "bbe7e8d7-3313-4288-a1a8-64b87d7eec63",
   "metadata": {},
   "outputs": [],
   "source": [
    "#The above Code was a base for generic understanding. For an iterative approach:\n",
    "\n",
    "tables=beautiful_soup.find_all(\"Table\")\n",
    "tesla_revenue = pd.DataFrame(columns=[\"Date\", \"Revenue\"])\n",
    "for tesla_table_index, table in enumerate(tesla_tables):\n",
    "if \"Tesla Quarterly Revenue\" in str(table)\n",
    "\n",
    "# For loop to Iterate through each cell in the table\n",
    "for row in table.tb.find_all(\"tr\"):\n",
    "col = row.find_all(\"td\")\n",
    "if col != []\n",
    "\n",
    "#here we try to extract data from columns\n",
    "date = col[0].text.strip()\n",
    "revenue = col[1].text.strip()\n",
    "tesla_revenue = tesla_revenue.append({\"Date\": date, \"Revenue\": revenue}, ignore_index=True)\n",
    "\n",
    "#printing the result\n",
    "print(tesla_revenue.head())"
   ]
  },
  {
   "attachments": {
    "636f0f12-8ec9-4dae-a735-18adbb515ecb.png": {
     "image/png": "[encoded data removed]"
    }
   },
   "cell_type": "markdown",
   "id": "4bf2d931-eb8d-43ae-b946-2a9b96bfa85c",
   "metadata": {},
   "source": [
    "![image.png](attachment:636f0f12-8ec9-4dae-a735-18adbb515ecb.png)"
   ]
  },
  {
   "cell_type": "markdown",
   "id": "bff07ab6-0de9-4133-b80b-d715f24ecabf",
   "metadata": {},
   "source": [
    "## Question 3: Extracting GameStop Stock Data Using yfinance\n"
   ]
  },
  {
   "cell_type": "markdown",
   "id": "2ce2b520-6b02-41db-b576-24ec94d6f885",
   "metadata": {},
   "source": [
    "We can use the Ticker function to extract data on to create a ticker object. The stock is Tesla and its ticker symbol is `GME`."
   ]
  },
  {
   "cell_type": "code",
   "execution_count": null,
   "id": "193ccf97-9532-4ac1-96b0-268ed5073699",
   "metadata": {},
   "outputs": [],
   "source": [
    "import yfinance as yf\n",
    "import pandas as pd\n",
    "\n",
    "#Defining the ticker symbol for Game Stop\n",
    "#ticker_symbol = 'GME'\n",
    "#Using yfinance to download the historical stock data\n",
    "#game_stop_data = yf.download(ticker_symbol, start=start_date, end=end_date)\n",
    "\n",
    "game_stop = yf.Ticker(\"GME\")"
   ]
  },
  {
   "cell_type": "markdown",
   "id": "e2347daa-b86d-4c87-9bb8-cbfb0a79d14f",
   "metadata": {},
   "source": [
    "Using the ticker object and the function history extract stock information and save it in a dataframe named gme_data. Set the period parameter to max so we get information for the maximum amount of time."
   ]
  },
  {
   "cell_type": "code",
   "execution_count": null,
   "id": "ffc6dc9c-974d-4700-acc8-d83d7f8a536c",
   "metadata": {
    "tags": []
   },
   "outputs": [],
   "source": [
    "#Set the period parameter to max so we get information for the maximum amount of time.\n",
    "gme_data = game_stop.history(period=\"max\")"
   ]
  },
  {
   "cell_type": "markdown",
   "id": "c4cb43c9-55ca-4c5e-ab02-1726dc1e9568",
   "metadata": {},
   "source": [
    "Reset the index using the reset_index(inplace=True) function on the gme_data DataFrame and display the first five rows of the gme_data dataframe using the head function."
   ]
  },
  {
   "cell_type": "code",
   "execution_count": null,
   "id": "7cf5341f-5d6a-48c1-a830-5d48fe4bcd34",
   "metadata": {
    "tags": []
   },
   "outputs": [],
   "source": [
    "#Reset the index using the reset_index(inplace=True) function on the gme_data DataFrame and display the first five rows of the gme_data dataframe using the head function.\n",
    "\n",
    "gme_data.reset_index(inplace=True)\n",
    "gme_data.head()"
   ]
  },
  {
   "attachments": {
    "bb4b95dd-8c96-49f2-a485-d0b14b805513.png": {
     "image/png": "[encoded data removed]"
    }
   },
   "cell_type": "markdown",
   "id": "26511391-14ba-41ca-b129-232ab3ef3713",
   "metadata": {},
   "source": [
    "![image.png](attachment:bb4b95dd-8c96-49f2-a485-d0b14b805513.png)"
   ]
  },
  {
   "cell_type": "markdown",
   "id": "7db0eb23-f032-420d-9843-6760dc973236",
   "metadata": {},
   "source": [
    "## Question 4: Extracting GameStop Revenue Data Using Webscraping\n"
   ]
  },
  {
   "cell_type": "markdown",
   "id": "d5a5a146-5454-4ffa-9857-3fab374b3a4a",
   "metadata": {},
   "source": [
    "Let's use the requests library to download the webpage either 'https://cf-courses-data.s3.us.cloud-object-storage.appdomain.cloud/IBMDeveloperSkillsNetwork-PY0220EN-SkillsNetwork/labs/project/stock.html' OR 'https://www.macrotrends.net/stocks/charts/GME/gamestop/revenue. Save the text of the response as a variable named html_data'"
   ]
  },
  {
   "cell_type": "code",
   "execution_count": null,
   "id": "0226762d-ebfd-4fe7-ac1b-402dc549962e",
   "metadata": {},
   "outputs": [],
   "source": [
    "url = \"https://cf-courses-data.s3.us.cloud-object-storage.appdomain.cloud/IBMDeveloperSkillsNetwork-PY0220EN-SkillsNetwork/labs/project/revenue.htm\"\n",
    "html_data = requests.get(url).text"
   ]
  },
  {
   "cell_type": "markdown",
   "id": "516fd054-6c14-4f89-bb68-863c21ed9d8a",
   "metadata": {},
   "source": [
    "Parsing the html data using beautiful_soup."
   ]
  },
  {
   "cell_type": "code",
   "execution_count": null,
   "id": "9b7f168c-4589-46c8-95fd-232231d3ace6",
   "metadata": {},
   "outputs": [],
   "source": [
    "soup = BeautifulSoup(html_data,'html.parser')"
   ]
  },
  {
   "cell_type": "markdown",
   "id": "5ec7dcab-b289-41e9-a8e3-fc3e57edcd29",
   "metadata": {},
   "source": [
    "Using BeautifulSoup or the read_html function to extract GameStop's Revenue and store it into gme_revenue.\n",
    "Also, removing comma, dollar sign from Revenue column."
   ]
  },
  {
   "cell_type": "code",
   "execution_count": null,
   "id": "e038c1d6-7001-4efc-8d7a-501b4d94d73b",
   "metadata": {
    "tags": []
   },
   "outputs": [],
   "source": [
    "gme_revenue=pd.read_html(url,match=\"GameStop Quarterly Revenue\", flavor='bs4')[0]\n",
    "\n",
    "gme_revenue = gme_revenue.rename(columns={\"GameStop Quarterly Revenue(Millions of US $)\":\"Date\",\"GameStop Quarterly Revenue(Millions of US $).1\":\"Revenue\"}) \n",
    "gme_revenue[\"Revenue\"] = gme_revenue['Revenue'].str.replace(',|\\$',\"\")\n",
    "\n",
    "gme_revenue.head()"
   ]
  },
  {
   "cell_type": "markdown",
   "id": "14f98503-349a-42d5-9b37-906ddc10a6df",
   "metadata": {},
   "source": [
    "Removing Null or empty strings from the Revenue column and display the last rows of the gme_revenue dataframe using the tail function."
   ]
  },
  {
   "cell_type": "code",
   "execution_count": 16,
   "id": "9da59aa0-0cd9-4fd9-a2c6-b3060bd0e7f2",
   "metadata": {},
   "outputs": [],
   "source": [
    "gme_revenue.dropna(inplace=True)\n",
    "gme_revenue = gme_revenue[gme_revenue['Revenue'] != \"\"]\n",
    "\n",
    "gme_revenue.tail()"
   ]
  },
  {
   "attachments": {
    "505bf3cd-495e-413a-96e4-1645b4c62433.png": {
     "image/png": "[encoded data removed]"
    }
   },
   "cell_type": "markdown",
   "id": "1a104b5b-17c4-4872-8319-fa7ac3e3d485",
   "metadata": {},
   "source": [
    "![image.png](attachment:505bf3cd-495e-413a-96e4-1645b4c62433.png)"
   ]
  },
  {
   "cell_type": "markdown",
   "id": "19826a85-034e-4028-83a9-de4b3eb74193",
   "metadata": {},
   "source": [
    "## Question 5: Tesla Stock and Revenue Dashboard\n"
   ]
  },
  {
   "cell_type": "markdown",
   "id": "380621e1-4c45-4060-94e8-fecefecae344",
   "metadata": {},
   "source": [
    "Using the 'make_graph' function graphs the Tesla Stock and Revenue Dashboard Data."
   ]
  },
  {
   "cell_type": "code",
   "execution_count": null,
   "id": "4b7ba76e-8c9e-428f-b17f-9975543bc06b",
   "metadata": {},
   "outputs": [],
   "source": [
    "#Template for viewing the dashboard: make_graph function(stock data, revenue data, 'Dashboard name')\n",
    "\n",
    "make_graph(tesla_data, tesla_revenue, 'Tesla Stock and Revenue Dashboard')"
   ]
  },
  {
   "cell_type": "markdown",
   "id": "473bac02-130a-4aeb-ba0a-515692b6a724",
   "metadata": {},
   "source": [
    "## Question 6: GameStop Stock and Revenue Dashboard\n"
   ]
  },
  {
   "cell_type": "markdown",
   "id": "8d138e27-dc20-47c9-bccb-638f6598f0af",
   "metadata": {},
   "source": [
    "Using the 'make_graph' function graphs the GameStop Stock and Revenue Dashboard Data."
   ]
  },
  {
   "cell_type": "code",
   "execution_count": null,
   "id": "e955214c-8d4b-4a5c-a63a-e3b6ad4645ea",
   "metadata": {},
   "outputs": [],
   "source": [
    "#Template for viewing the dashboard: make_graph function(stock data, revenue data, 'Dashboard name')\n",
    "\n",
    "make_graph(gme_data, gme_revenue, 'GameStop Stock and Revenue Dashboard')"
   ]
  },
  {
   "cell_type": "markdown",
   "id": "b35bf711-e277-41c5-b420-7706faf2cd17",
   "metadata": {},
   "source": [
    "Unable to load the graph due to Https 404 Error. This is probably due to changes in the structure of the Yahoo Finance website or a temporary issue with the server."
   ]
  }
 ],
 "metadata": {
  "kernelspec": {
   "display_name": "Python",
   "language": "python",
   "name": "conda-env-python-py"
  },
  "language_info": {
   "codemirror_mode": {
    "name": "ipython",
    "version": 3
   },
   "file_extension": ".py",
   "mimetype": "text/x-python",
   "name": "python",
   "nbconvert_exporter": "python",
   "pygments_lexer": "ipython3",
   "version": "3.7.12"
  }
 },
 "nbformat": 4,
 "nbformat_minor": 5
}
